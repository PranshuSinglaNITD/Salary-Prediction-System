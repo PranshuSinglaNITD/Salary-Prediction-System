#%%
import numpy as np
import pandas as pd
import streamlit as st
from sklearn.model_selection import train_test_split
from sklearn.linear_model import LinearRegression,Ridge
from sklearn.pipeline import Pipeline
from sklearn.preprocessing import OneHotEncoder
from sklearn.compose import ColumnTransformer
from sklearn.impute import SimpleImputer
import pickle
from sklearn.metrics import r2_score,mean_squared_error
#%%
df=pd.read_csv('sal.csv')
#%%
df=df[df['Salary'].notnull()]
#%%
X=df.drop(['Salary', 'Age', 'Gender'],axis=1)
y=df['Salary']
#%%
print(df.columns)
#%%
df.dropna()
df.isnull().sum()
#%%
df.isnull().sum()
#%%
categorical_col=X.select_dtypes(include=['object']).columns.tolist()
num_col=X.select_dtypes(exclude=['object']).columns.tolist()
#%%
numeric_transformer=Pipeline([
    ('imputer', SimpleImputer(strategy='mean'))
])
categorical_transformer=Pipeline([
    ('imputer', SimpleImputer(strategy='most_frequent')),
    ('encoder',OneHotEncoder(handle_unknown='ignore'))
])
#%%
pre=ColumnTransformer(
    transformers=[
        ('num',numeric_transformer,num_col),
        ('cat',categorical_transformer,categorical_col),
    ]
)
#%%
lin_reg=Pipeline([
    ('preprocessor',pre),
    ('model',LinearRegression())
])
#%%
rig_reg=Pipeline([
    ('preprocessor',pre),
    ('model',Ridge(alpha=1.0))
])
#%%

#%%
X_train,X_test,y_train,y_test=train_test_split(X,y,test_size=0.2,random_state=42)
#%%
lin_reg.fit(X_train,y_train)
#%%
y_pred1=lin_reg.predict(X_test)
#%%
rig_reg.fit(X_train,y_train)
#%%
y_pred2=rig_reg.predict(X_test)
#%%
#save models
with open('model.pkl','wb') as f:
    pickle.dump(lin_reg,f)
print('Models saved')
#%%
